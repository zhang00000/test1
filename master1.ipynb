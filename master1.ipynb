{
 "cells": [
  {
   "cell_type": "code",
   "execution_count": 8,
   "metadata": {},
   "outputs": [],
   "source": [
    "import numpy\n",
    "import os, ctypes\n",
    "from scipy import integrate, LowLevelCallable\n",
    "%run \"integration_utils.py\""
   ]
  },
  {
   "cell_type": "code",
   "execution_count": 9,
   "metadata": {},
   "outputs": [],
   "source": [
    "y = numpy.matrix('1 1; 1 -1; -1 1; -1 -1', dtype=float)\n",
    "q = numpy.array([0.5, 0.2, 0.2, 0.1])\n",
    "\n",
    "lib = ctypes.CDLL(os.path.abspath('std_gaussian.so'))\n",
    "lib.f.restype = ctypes.c_double\n",
    "lib.f.argtypes = (ctypes.c_int, ctypes.POINTER(ctypes.c_double))\n",
    "p1 = LowLevelCallable(lib.f)\n",
    "lib.g.restype = ctypes.c_double\n",
    "lib.g.argtypes = (ctypes.c_int, ctypes.POINTER(ctypes.c_double), ctypes.c_void_p)\n",
    "p3 = []\n",
    "for j in range(len(y)):\n",
    "    user_data = ctypes.cast(ctypes.pointer((ctypes.c_double*2)(y[j,0], y[j,1])), ctypes.c_void_p)\n",
    "    p3.append(LowLevelCallable(lib.g, user_data))"
   ]
  },
  {
   "cell_type": "code",
   "execution_count": 10,
   "metadata": {},
   "outputs": [],
   "source": [
    "def g_w_one_source(v, q, y, pdf, normpdf):\n",
    "    n = v.size\n",
    "    w = numpy.zeros(n)\n",
    "    g = v.dot(q)\n",
    "    for j in range(n):\n",
    "        interval = gen_intervals(j, v, y)\n",
    "        integral1 = integrate_over_intervals(interval, pdf)\n",
    "        integral2 = integrate_over_intervals(interval, normpdf[j])\n",
    "        w[j] = q[j] - integral1\n",
    "        g += integral2 - v[j] * integral1\n",
    "    return g, w"
   ]
  },
  {
   "cell_type": "code",
   "execution_count": 11,
   "metadata": {},
   "outputs": [],
   "source": [
    "def subgradient_1(q, y, max_step, pdf, normpdf):\n",
    "    v = numpy.zeros(len(y))\n",
    "    v_best = v\n",
    "    g_best = - numpy.inf\n",
    "    for step in range(1, max_step):\n",
    "        g, w = g_w_one_source(v, q, y, pdf, normpdf)\n",
    "        if g > g_best:\n",
    "            v_best = v\n",
    "            g_best = g\n",
    "        norm = numpy.linalg.norm(w)\n",
    "        if norm < 1e-8:\n",
    "            break\n",
    "        alpha = 1 / step\n",
    "        v += alpha * w / norm\n",
    "        print(step, g_best, norm)\n",
    "    return g_best, v_best"
   ]
  },
  {
   "cell_type": "code",
   "execution_count": 14,
   "metadata": {},
   "outputs": [
    {
     "name": "stdout",
     "output_type": "stream",
     "text": [
      "1 0.8084617567885385 0.30000000000000004\n",
      "2 1.0506394672302237 0.18554490033301\n",
      "3 1.1294821099256276 0.1306433520855199\n",
      "4 1.1672289852279216 0.09640029308135561\n",
      "5 1.1882958871641554 0.07251941775094317\n",
      "6 1.2009937799259633 0.0547180362372859\n",
      "7 1.2089393570182305 0.04079825281729026\n",
      "8 1.2139526120640993 0.029495984554884343\n",
      "9 1.2170441350088117 0.020038483433008916\n",
      "10 1.2188179426201458 0.011937856313180756\n",
      "11 1.2196569691913752 0.00487894193817128\n",
      "12 1.2198160217609908 0.0013498893165808936\n",
      "13 1.2198160217609908 0.004353249074084919\n",
      "14 1.2198232621536684 0.0009219216532886724\n",
      "15 1.2198232621536684 0.004184782834895293\n",
      "16 1.2198232621536684 0.0028774917579033484\n",
      "17 1.2198232621536684 0.008919506327937735\n",
      "18 1.2198232621536684 0.0022471049057198084\n",
      "19 1.2198232621536684 0.008295139147164142\n",
      " "
     ]
    }
   ],
   "source": [
    "%prun subgradient_1(q, y, 20, p1, p3)"
   ]
  },
  {
   "cell_type": "code",
   "execution_count": null,
   "metadata": {},
   "outputs": [],
   "source": []
  }
 ],
 "metadata": {
  "kernelspec": {
   "display_name": "Python 3",
   "language": "python",
   "name": "python3"
  },
  "language_info": {
   "codemirror_mode": {
    "name": "ipython",
    "version": 3
   },
   "file_extension": ".py",
   "mimetype": "text/x-python",
   "name": "python",
   "nbconvert_exporter": "python",
   "pygments_lexer": "ipython3",
   "version": "3.6.7"
  }
 },
 "nbformat": 4,
 "nbformat_minor": 1
}
