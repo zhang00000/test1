{
 "cells": [
  {
   "cell_type": "code",
   "execution_count": 1,
   "metadata": {},
   "outputs": [],
   "source": [
    "import numpy\n",
    "import os, ctypes\n",
    "from scipy import integrate, LowLevelCallable\n",
    "%run \"integration_utils.py\"\n",
    "%run \"q_solver.py\""
   ]
  },
  {
   "cell_type": "code",
   "execution_count": 3,
   "metadata": {},
   "outputs": [],
   "source": [
    "y = numpy.matrix('1 1; 1 -1; -1 1; -1 -1', dtype=float)\n",
    "\n",
    "lib = ctypes.CDLL(os.path.abspath('std_gaussian.so'))\n",
    "lib.f.restype = ctypes.c_double\n",
    "lib.f.argtypes = (ctypes.c_int, ctypes.POINTER(ctypes.c_double))\n",
    "lib.g.restype = ctypes.c_double\n",
    "lib.g.argtypes = (ctypes.c_int, ctypes.POINTER(ctypes.c_double), ctypes.c_void_p)\n",
    "p1 = LowLevelCallable(lib.f)"
   ]
  },
  {
   "cell_type": "code",
   "execution_count": null,
   "metadata": {},
   "outputs": [],
   "source": [
    "def g_w_multi_source(v, y):\n",
    "    n = len(y)\n",
    "    w = numpy.zeros(n)\n",
    "    g = v.dot(q)\n",
    "    for j in range(n):\n",
    "        interval = gen_intervals(j, v, y)\n",
    "        integral1 = integrate_over_intervals(interval, p1)\n",
    "        user_data = ctypes.cast(ctypes.pointer((ctypes.c_double*2)(y[j,0], y[j,1])), ctypes.c_void_p)\n",
    "        p2 = LowLevelCallable(lib.g, user_data)\n",
    "        integral2 = integrate_over_intervals(interval, p2)\n",
    "        w[j] = q[j] - integral1\n",
    "        g += integral2 - v[j] * integral1\n",
    "    return g, w"
   ]
  },
  {
   "cell_type": "code",
   "execution_count": 4,
   "metadata": {},
   "outputs": [
    {
     "data": {
      "text/plain": [
       "4"
      ]
     },
     "execution_count": 4,
     "metadata": {},
     "output_type": "execute_result"
    }
   ],
   "source": [
    "len(y)"
   ]
  },
  {
   "cell_type": "code",
   "execution_count": null,
   "metadata": {},
   "outputs": [],
   "source": []
  }
 ],
 "metadata": {
  "kernelspec": {
   "display_name": "Python 3",
   "language": "python",
   "name": "python3"
  },
  "language_info": {
   "codemirror_mode": {
    "name": "ipython",
    "version": 3
   },
   "file_extension": ".py",
   "mimetype": "text/x-python",
   "name": "python",
   "nbconvert_exporter": "python",
   "pygments_lexer": "ipython3",
   "version": "3.6.7"
  }
 },
 "nbformat": 4,
 "nbformat_minor": 2
}
